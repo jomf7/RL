{
 "cells": [
  {
   "cell_type": "markdown",
   "metadata": {},
   "source": [
    "# Regresión Lineal Multiple"
   ]
  },
  {
   "cell_type": "markdown",
   "metadata": {},
   "source": [
    "En regresión múltiple, el objetivo es construir un modelo probabilístico que relacione una variable dependiente y a más de una variable independiente o predictores. Represente con k el número de variables predictores $(k≥2)$ y denote estos predictores por $x_1$, $x_2$,…, $x_k$. Por ejemplo, al tratar de predecir el precio de venta de una casa, se podría tener k = 3 con $x_1 = tamaño$ ($pie^{2}$), $x_2 = edad$ (años) y $x_3 = número\\hspace{1mm}de\\hspace{1mm}habitaciones$."
   ]
  },
  {
   "cell_type": "markdown",
   "metadata": {},
   "source": [
    "La ecuación general del modelo de regresión múltiple aditivo es\n",
    "\n",
    "$$Y=\\beta_0+\\beta_1 x_1+\\beta_2 x_2+⋯+\\beta_k x_k+∈$$\n",
    "\n",
    "Donde $E(∈)=0$ y $V(∈)=\\sigma^2$. Además, con el fin de probar hipótesis y calcular intervalos de confianza y de pronóstico, se supone que ∈ está normalmente distribuida."
   ]
  },
  {
   "cell_type": "markdown",
   "metadata": {},
   "source": [
    "#### Ejemplo Regresión lineal múltiple"
   ]
  },
  {
   "cell_type": "markdown",
   "metadata": {},
   "source": [
    "Los siguientes datos describen un experimento para evaluar el impacto de las variables $x_1=fuerza$ (g), $x_2=potencia$ (mw), $x_3=temperatura$ (°C) y $x_4=tiempo$ (ms) sobre $y=resistencia$ (al corte del cemento). Los siguientes datos se generaron para ser consistentes con la información del artículo."
   ]
  },
  {
   "cell_type": "code",
   "execution_count": 1,
   "metadata": {},
   "outputs": [],
   "source": [
    "# La base de datos que se va a generar se va a guardar en diferentes listas para\n",
    "# acomodarlas posteriormente en un DataFrame\n",
    "Fuerza = [30, 40, 30, 40, 30, 40, 30, 40, 30, 40, 30, 40, 30, 40, 30, 40, \n",
    "          25, 45, 35, 35, 35, 35, 35, 35, 35, 35, 35, 35, 35, 35]\n",
    "\n",
    "Potencia = [60, 60, 90, 90, 60, 60, 90, 90, 60, 60, 90, 90, 60, 60, 90, \n",
    "            90, 75, 75, 45, 105, 75, 75, 75, 75, 75, 75, 75, 75, 75, 75]\n",
    "\n",
    "Temperatura = [175, 175, 175, 175, 225, 225, 225, 225, 175, 175, 175, 175, \n",
    "               225, 225, 225, 225, 200, 200, 200, 200, 150, 250, 200, 200, \n",
    "               200, 200, 200, 200, 200, 200]\n",
    "\n",
    "Tiempo = [15, 15, 15, 15, 15, 15, 15, 15, 25, 25, 25, 25, 25, 25, 25, 25, \n",
    "          20, 20, 20, 20, 20, 20, 10, 30, 20, 20, 20, 20, 20, 20]\n",
    "\n",
    "Resistencia = [26.2, 26.3, 39.8, 39.7, 38.6, 35.5, 48.8, 37.8, 26.6, 23.4, \n",
    "               38.6, 52.1, 39.5, 32.3, 43, 56, 35.2, 46.9, 22.7, 58.7, 34.5,\n",
    "               44, 35.7, 41.8, 36.5, 37.6, 40.3, 46, 27.8, 40.3]"
   ]
  },
  {
   "cell_type": "code",
   "execution_count": 2,
   "metadata": {},
   "outputs": [],
   "source": [
    "# Con el siguiente código se convierten las listas a un diccionario\n",
    "# Posteriormente se convierten el diccionario en un DataFrame \n",
    "# con una sola línea de código\n",
    "import pandas as pd\n",
    "\n",
    "datos = {'Fuerza': Fuerza, 'Potencia':Potencia, 'Temperatura': Temperatura,\n",
    "        'Tiempo': Tiempo, 'Resistencia': Resistencia}\n",
    "\n",
    "datos_df = pd.DataFrame(datos)"
   ]
  },
  {
   "cell_type": "markdown",
   "metadata": {},
   "source": [
    "Las primeras 5 filas de esta tabla se ven así:"
   ]
  },
  {
   "cell_type": "code",
   "execution_count": 66,
   "metadata": {},
   "outputs": [
    {
     "data": {
      "text/html": [
       "<div>\n",
       "<style scoped>\n",
       "    .dataframe tbody tr th:only-of-type {\n",
       "        vertical-align: middle;\n",
       "    }\n",
       "\n",
       "    .dataframe tbody tr th {\n",
       "        vertical-align: top;\n",
       "    }\n",
       "\n",
       "    .dataframe thead th {\n",
       "        text-align: right;\n",
       "    }\n",
       "</style>\n",
       "<table border=\"1\" class=\"dataframe\">\n",
       "  <thead>\n",
       "    <tr style=\"text-align: right;\">\n",
       "      <th></th>\n",
       "      <th>Fuerza</th>\n",
       "      <th>Potencia</th>\n",
       "      <th>Temperatura</th>\n",
       "      <th>Tiempo</th>\n",
       "      <th>Resistencia</th>\n",
       "    </tr>\n",
       "  </thead>\n",
       "  <tbody>\n",
       "    <tr>\n",
       "      <th>0</th>\n",
       "      <td>30</td>\n",
       "      <td>60</td>\n",
       "      <td>175</td>\n",
       "      <td>15</td>\n",
       "      <td>26.2</td>\n",
       "    </tr>\n",
       "    <tr>\n",
       "      <th>1</th>\n",
       "      <td>40</td>\n",
       "      <td>60</td>\n",
       "      <td>175</td>\n",
       "      <td>15</td>\n",
       "      <td>26.3</td>\n",
       "    </tr>\n",
       "    <tr>\n",
       "      <th>2</th>\n",
       "      <td>30</td>\n",
       "      <td>90</td>\n",
       "      <td>175</td>\n",
       "      <td>15</td>\n",
       "      <td>39.8</td>\n",
       "    </tr>\n",
       "    <tr>\n",
       "      <th>3</th>\n",
       "      <td>40</td>\n",
       "      <td>90</td>\n",
       "      <td>175</td>\n",
       "      <td>15</td>\n",
       "      <td>39.7</td>\n",
       "    </tr>\n",
       "    <tr>\n",
       "      <th>4</th>\n",
       "      <td>30</td>\n",
       "      <td>60</td>\n",
       "      <td>225</td>\n",
       "      <td>15</td>\n",
       "      <td>38.6</td>\n",
       "    </tr>\n",
       "  </tbody>\n",
       "</table>\n",
       "</div>"
      ],
      "text/plain": [
       "   Fuerza  Potencia  Temperatura  Tiempo  Resistencia\n",
       "0      30        60          175      15         26.2\n",
       "1      40        60          175      15         26.3\n",
       "2      30        90          175      15         39.8\n",
       "3      40        90          175      15         39.7\n",
       "4      30        60          225      15         38.6"
      ]
     },
     "execution_count": 66,
     "metadata": {},
     "output_type": "execute_result"
    }
   ],
   "source": [
    "datos_df.head()"
   ]
  },
  {
   "cell_type": "code",
   "execution_count": 67,
   "metadata": {},
   "outputs": [],
   "source": [
    "# Importamos la librería numpy para la simplificación de operaciones\n",
    "import statsmodels.api as sm\n",
    "\n",
    "reg = sm.OLS.from_formula('Resistencia ~ Fuerza + Potencia + Temperatura + Tiempo', data=datos_df).fit()  #Ordinary Least Squares\n",
    "\n",
    "anova_results = sm.stats.anova_lm(reg, typ=1)"
   ]
  },
  {
   "cell_type": "code",
   "execution_count": 68,
   "metadata": {},
   "outputs": [
    {
     "name": "stdout",
     "output_type": "stream",
     "text": [
      "                            OLS Regression Results                            \n",
      "==============================================================================\n",
      "Dep. Variable:            Resistencia   R-squared:                       0.714\n",
      "Model:                            OLS   Adj. R-squared:                  0.668\n",
      "Method:                 Least Squares   F-statistic:                     15.60\n",
      "Date:                Sat, 23 May 2020   Prob (F-statistic):           1.59e-06\n",
      "Time:                        16:35:33   Log-Likelihood:                -89.050\n",
      "No. Observations:                  30   AIC:                             188.1\n",
      "Df Residuals:                      25   BIC:                             195.1\n",
      "Df Model:                           4                                         \n",
      "Covariance Type:            nonrobust                                         \n",
      "===============================================================================\n",
      "                  coef    std err          t      P>|t|      [0.025      0.975]\n",
      "-------------------------------------------------------------------------------\n",
      "Intercept     -37.4767     13.100     -2.861      0.008     -64.456     -10.497\n",
      "Fuerza          0.2117      0.211      1.005      0.324      -0.222       0.645\n",
      "Potencia        0.4983      0.070      7.100      0.000       0.354       0.643\n",
      "Temperatura     0.1297      0.042      3.079      0.005       0.043       0.216\n",
      "Tiempo          0.2583      0.211      1.227      0.231      -0.175       0.692\n",
      "==============================================================================\n",
      "Omnibus:                        1.712   Durbin-Watson:                   2.261\n",
      "Prob(Omnibus):                  0.425   Jarque-Bera (JB):                1.156\n",
      "Skew:                          -0.480   Prob(JB):                        0.561\n",
      "Kurtosis:                       2.965   Cond. No.                     3.04e+03\n",
      "==============================================================================\n",
      "\n",
      "Warnings:\n",
      "[1] Standard Errors assume that the covariance matrix of the errors is correctly specified.\n",
      "[2] The condition number is large, 3.04e+03. This might indicate that there are\n",
      "strong multicollinearity or other numerical problems.\n",
      "\n",
      " \n",
      " \n",
      "\n",
      "                     Resultados de ANOVA\n",
      "====================================================================\n",
      "               df       sum_sq      mean_sq          F        PR(>F)\n",
      "Fuerza        1.0    26.881667    26.881667   1.010409  3.244356e-01\n",
      "Potencia      1.0  1341.015000  1341.015000  50.405103  1.928265e-07\n",
      "Temperatura   1.0   252.201667   252.201667   9.479574  4.991622e-03\n",
      "Tiempo        1.0    40.041667    40.041667   1.505057  2.313237e-01\n",
      "Residual     25.0   665.118667    26.604747        NaN           NaN\n"
     ]
    }
   ],
   "source": [
    "print(reg.summary())\n",
    "print('\\n','\\n','\\n')  #Agrega espacios entre el resumen de la regresión y el de la tabla de ANOVA\n",
    "\n",
    "# Imprime resultados de ANOVA para regresión\n",
    "print(' '*20,'Resultados de ANOVA')\n",
    "print('====================================================================')\n",
    "print(anova_results)"
   ]
  },
  {
   "cell_type": "code",
   "execution_count": 69,
   "metadata": {},
   "outputs": [],
   "source": [
    "# Definimos nuestra propia tabla anova con los resultados generados por la librería\n",
    "\n",
    "anova_tabla = {'Fuente': ['Modelo', 'Error', 'Total'],\n",
    "               'GL': [reg.df_model, reg.df_resid, reg.df_model+reg.df_resid],\n",
    "               'Sum cuadrados': [reg.ess, reg.ssr, reg.ess+reg.ssr],\n",
    "               'Cuad medios': [reg.mse_model, reg.mse_resid, ''],\n",
    "               'Estadist F': [reg.fvalue, '', ''],\n",
    "               'valor-p F': [reg.f_pvalue, '', '']}\n",
    "\n",
    "anova_tabla_df = pd.DataFrame(anova_tabla)"
   ]
  },
  {
   "cell_type": "code",
   "execution_count": 70,
   "metadata": {},
   "outputs": [
    {
     "name": "stdout",
     "output_type": "stream",
     "text": [
      "   Fuente    GL  Sum cuadrados Cuad medios Estadist F    valor-p F\n",
      "0  Modelo   4.0    1660.140000     415.035       15.6  1.59242e-06\n",
      "1   Error  25.0     665.118667     26.6047                        \n",
      "2   Total  29.0    2325.258667                                    \n"
     ]
    }
   ],
   "source": [
    "print(anova_tabla_df)"
   ]
  },
  {
   "cell_type": "code",
   "execution_count": 71,
   "metadata": {},
   "outputs": [
    {
     "name": "stdout",
     "output_type": "stream",
     "text": [
      "                            OLS Regression Results                            \n",
      "==============================================================================\n",
      "Dep. Variable:            Resistencia   R-squared:                       0.714\n",
      "Model:                            OLS   Adj. R-squared:                  0.668\n",
      "Method:                 Least Squares   F-statistic:                     15.60\n",
      "Date:                Sat, 23 May 2020   Prob (F-statistic):           1.59e-06\n",
      "Time:                        16:35:38   Log-Likelihood:                -89.050\n",
      "No. Observations:                  30   AIC:                             188.1\n",
      "Df Residuals:                      25   BIC:                             195.1\n",
      "Df Model:                           4                                         \n",
      "Covariance Type:            nonrobust                                         \n",
      "===============================================================================\n",
      "                  coef    std err          t      P>|t|      [0.025      0.975]\n",
      "-------------------------------------------------------------------------------\n",
      "Intercept     -37.4767     13.100     -2.861      0.008     -64.456     -10.497\n",
      "Fuerza          0.2117      0.211      1.005      0.324      -0.222       0.645\n",
      "Potencia        0.4983      0.070      7.100      0.000       0.354       0.643\n",
      "Temperatura     0.1297      0.042      3.079      0.005       0.043       0.216\n",
      "Tiempo          0.2583      0.211      1.227      0.231      -0.175       0.692\n",
      "==============================================================================\n",
      "Omnibus:                        1.712   Durbin-Watson:                   2.261\n",
      "Prob(Omnibus):                  0.425   Jarque-Bera (JB):                1.156\n",
      "Skew:                          -0.480   Prob(JB):                        0.561\n",
      "Kurtosis:                       2.965   Cond. No.                     3.04e+03\n",
      "==============================================================================\n",
      "\n",
      "Warnings:\n",
      "[1] Standard Errors assume that the covariance matrix of the errors is correctly specified.\n",
      "[2] The condition number is large, 3.04e+03. This might indicate that there are\n",
      "strong multicollinearity or other numerical problems.\n",
      "\n",
      " \n",
      " \n",
      "\n",
      "                     Resultados de ANOVA\n",
      "====================================================================\n",
      "   Fuente    GL  Sum cuadrados Cuad medios Estadist F    valor-p F\n",
      "0  Modelo   4.0    1660.140000     415.035       15.6  1.59242e-06\n",
      "1   Error  25.0     665.118667     26.6047                        \n",
      "2   Total  29.0    2325.258667                                    \n"
     ]
    }
   ],
   "source": [
    "print(reg.summary())\n",
    "print('\\n','\\n','\\n')  #Agrega espacios entre el resumen de la regresión y el de la tabla de ANOVA\n",
    "\n",
    "# Imprime resultados de ANOVA para regresión\n",
    "print(' '*20,'Resultados de ANOVA')\n",
    "print('====================================================================')\n",
    "print(anova_tabla_df)"
   ]
  },
  {
   "cell_type": "markdown",
   "metadata": {},
   "source": [
    "## Interpretaciones de los resutados del modelo de regresión lineal múltiple"
   ]
  },
  {
   "cell_type": "markdown",
   "metadata": {},
   "source": [
    "Calcule una predicción puntual de la resistencia debida a una fuerza de 35g, potencia de 75 mw, temperatura de 200 grados y tiempo de 20 ms."
   ]
  },
  {
   "cell_type": "code",
   "execution_count": 72,
   "metadata": {},
   "outputs": [],
   "source": [
    "X = {'Fuerza': [35], 'Potencia': [75], 'Temperatura': [200], 'Tiempo': [20]}"
   ]
  },
  {
   "cell_type": "markdown",
   "metadata": {},
   "source": [
    "Para este grupo de valores obtenemos en a siguiente celda la estimación puntual, el intervalo de estimación y el intervalo de predicción. \n",
    "\n",
    "El intervalo de estimación, en las columnas mean_ci_lower (intervalo de confianza limite inferior para la media) y mean_ci_upper (intervalo de confianza ímite superior para la media) sería [36.46, 40.35]\n",
    "\n",
    "El intervalo de predicción lo encontramos en las columnas obs_ci_lower (intervalo de confianza límite inferior de nueva observación) y obs_ci_upper (intervalo de confianza límite superior de nueva observación) sería [27.60,49.2]. "
   ]
  },
  {
   "cell_type": "code",
   "execution_count": 73,
   "metadata": {},
   "outputs": [
    {
     "data": {
      "text/html": [
       "<div>\n",
       "<style scoped>\n",
       "    .dataframe tbody tr th:only-of-type {\n",
       "        vertical-align: middle;\n",
       "    }\n",
       "\n",
       "    .dataframe tbody tr th {\n",
       "        vertical-align: top;\n",
       "    }\n",
       "\n",
       "    .dataframe thead th {\n",
       "        text-align: right;\n",
       "    }\n",
       "</style>\n",
       "<table border=\"1\" class=\"dataframe\">\n",
       "  <thead>\n",
       "    <tr style=\"text-align: right;\">\n",
       "      <th></th>\n",
       "      <th>mean</th>\n",
       "      <th>mean_se</th>\n",
       "      <th>mean_ci_lower</th>\n",
       "      <th>mean_ci_upper</th>\n",
       "      <th>obs_ci_lower</th>\n",
       "      <th>obs_ci_upper</th>\n",
       "    </tr>\n",
       "  </thead>\n",
       "  <tbody>\n",
       "    <tr>\n",
       "      <th>0</th>\n",
       "      <td>38.406667</td>\n",
       "      <td>0.941714</td>\n",
       "      <td>36.467171</td>\n",
       "      <td>40.346163</td>\n",
       "      <td>27.608011</td>\n",
       "      <td>49.205323</td>\n",
       "    </tr>\n",
       "  </tbody>\n",
       "</table>\n",
       "</div>"
      ],
      "text/plain": [
       "        mean   mean_se  mean_ci_lower  mean_ci_upper  obs_ci_lower  \\\n",
       "0  38.406667  0.941714      36.467171      40.346163     27.608011   \n",
       "\n",
       "   obs_ci_upper  \n",
       "0     49.205323  "
      ]
     },
     "execution_count": 73,
     "metadata": {},
     "output_type": "execute_result"
    }
   ],
   "source": [
    "prediccion = reg.get_prediction(X).summary_frame(alpha=0.05)\n",
    "prediccion"
   ]
  },
  {
   "cell_type": "code",
   "execution_count": 74,
   "metadata": {},
   "outputs": [
    {
     "name": "stdout",
     "output_type": "stream",
     "text": [
      "La estimación puntual para los valores predictores es:  38.40666666666674 con un intervalo al 95% de: 36.4671707814011 a 40.34616255193237\n"
     ]
    }
   ],
   "source": [
    "print(\"La estimación puntual para los valores predictores es: \", \n",
    "      prediccion['mean'][0], \n",
    "      \"con un intervalo al 95% de:\", \n",
    "      prediccion['mean_ci_lower'][0],\n",
    "      \"a\", \n",
    "      prediccion['mean_ci_upper'][0])"
   ]
  },
  {
   "cell_type": "markdown",
   "metadata": {},
   "source": [
    "### $R^{2}$ ajustada"
   ]
  },
  {
   "cell_type": "markdown",
   "metadata": {},
   "source": [
    "La proporción explicada por el modelo de regresión múltiple es $R^2=1-SSE/SST$, el coeficiente de determinación múltiple. Este valor se ajusta por el número de parámetros del modelo mediante \n",
    "\n",
    "$$R_a^2=[(n-1) R^2-k]/[n-(k+1)] $$"
   ]
  },
  {
   "cell_type": "markdown",
   "metadata": {},
   "source": [
    "El objetivo de este ajuste es equilibrar la ganancia en el ajuste con el costo de utilizar mas parámetros en nuestro modelo."
   ]
  },
  {
   "cell_type": "markdown",
   "metadata": {},
   "source": [
    "En este caso el valor de $R^{2}$ ajustada es:"
   ]
  },
  {
   "cell_type": "code",
   "execution_count": 56,
   "metadata": {},
   "outputs": [
    {
     "name": "stdout",
     "output_type": "stream",
     "text": [
      "El ajuste del modelo es:  0.6681927630703738\n"
     ]
    }
   ],
   "source": [
    "print(\"El ajuste del modelo es: \", reg.rsquared_adj)"
   ]
  },
  {
   "cell_type": "markdown",
   "metadata": {},
   "source": [
    "### Inferencias acerca de los parámetros del modelo"
   ]
  },
  {
   "cell_type": "markdown",
   "metadata": {},
   "source": [
    "Las inferencias en relación con una sola $\\beta_{i}$ están basadas en la variable estandarizada\n",
    "\n",
    "$$ T = \\frac{\\hat{\\beta}_{i}-\\beta_{i}}{S_{\\hat{\\beta}_{i}}} $$"
   ]
  },
  {
   "cell_type": "markdown",
   "metadata": {},
   "source": [
    "la cual tiene una distribución $t$ con $n-(k+1)$ grados de libertad."
   ]
  },
  {
   "cell_type": "markdown",
   "metadata": {},
   "source": [
    "Podemos acceder directamente a los estimadores y revisar sus valores."
   ]
  },
  {
   "cell_type": "code",
   "execution_count": 57,
   "metadata": {},
   "outputs": [
    {
     "name": "stdout",
     "output_type": "stream",
     "text": [
      "Los parámetros tenemos son: \n",
      "Intercept     -37.476667\n",
      "Fuerza          0.211667\n",
      "Potencia        0.498333\n",
      "Temperatura     0.129667\n",
      "Tiempo          0.258333\n",
      "dtype: float64\n"
     ]
    }
   ],
   "source": [
    "print(\"Los parámetros tenemos son: \")\n",
    "print(reg.params)"
   ]
  },
  {
   "cell_type": "code",
   "execution_count": 58,
   "metadata": {},
   "outputs": [
    {
     "name": "stdout",
     "output_type": "stream",
     "text": [
      "Las desviaciones de cada uno de estos estimadores son: \n",
      "Intercept      13.099642\n",
      "Fuerza          0.210574\n",
      "Potencia        0.070191\n",
      "Temperatura     0.042115\n",
      "Tiempo          0.210574\n",
      "dtype: float64\n"
     ]
    }
   ],
   "source": [
    "print(\"Las desviaciones de cada uno de estos estimadores son: \")\n",
    "print(reg.bse)"
   ]
  },
  {
   "cell_type": "markdown",
   "metadata": {},
   "source": [
    "Si quisieramos calcular el intervalo de confianza para $\\beta_1$, en este caso la beta que representa la Fuerza en nuestro modelos tendríamos:"
   ]
  },
  {
   "cell_type": "code",
   "execution_count": 59,
   "metadata": {},
   "outputs": [
    {
     "data": {
      "text/plain": [
       "0.21057360813844747"
      ]
     },
     "execution_count": 59,
     "metadata": {},
     "output_type": "execute_result"
    }
   ],
   "source": [
    "reg.bse[1]"
   ]
  },
  {
   "cell_type": "markdown",
   "metadata": {},
   "source": [
    "Calculamos el estadistico t para no buscarlo en tablas:"
   ]
  },
  {
   "cell_type": "code",
   "execution_count": 60,
   "metadata": {},
   "outputs": [],
   "source": [
    "from scipy.stats import t\n",
    "\n",
    "alfa = 0.05\n",
    "grados_libertad = reg.nobs-(reg.df_model+1)\n",
    "\n",
    "estadistico_t = t.ppf(1-alfa/2, grados_libertad, loc=0, scale=1)"
   ]
  },
  {
   "cell_type": "markdown",
   "metadata": {},
   "source": [
    "Generamos el límite superior:"
   ]
  },
  {
   "cell_type": "code",
   "execution_count": 61,
   "metadata": {},
   "outputs": [
    {
     "data": {
      "text/plain": [
       "0.645351130820164"
      ]
     },
     "execution_count": 61,
     "metadata": {},
     "output_type": "execute_result"
    }
   ],
   "source": [
    "reg.params[1] + estadistico_t*reg.bse[1] "
   ]
  },
  {
   "cell_type": "markdown",
   "metadata": {},
   "source": [
    "Generamos el límite inferior:"
   ]
  },
  {
   "cell_type": "code",
   "execution_count": 53,
   "metadata": {},
   "outputs": [
    {
     "data": {
      "text/plain": [
       "-0.2220177974868307"
      ]
     },
     "execution_count": 53,
     "metadata": {},
     "output_type": "execute_result"
    }
   ],
   "source": [
    "reg.params[1] - estadistico_t*reg.bse[1] "
   ]
  },
  {
   "cell_type": "markdown",
   "metadata": {},
   "source": [
    "### Prueba de utilidad del modelo"
   ]
  },
  {
   "cell_type": "markdown",
   "metadata": {},
   "source": [
    "Una prueba de la utilidad del modelo considera la afirmación que $H_0: \\beta_{1}=\\beta_{2}=...=\\beta_{k}=0$. Si por lo menos una de esas $\\beta$ no es 0, los predictores correspondientes son útiles. La prueba está basada en un estadístico con una distribución $F$ particular cuando $H_0$ es real.\n",
    "\n",
    "Hipótesis nula: $H_0: \\beta_{1}=\\beta_{2}=...=\\beta_{k}=0$ <br>\n",
    "Hipótesis alternativa: $H_{a}$: al menos $\\beta_{i} \\ne 0 \\hspace{1mm} (i=1,…,k)$ <br>\n",
    "Valor del estadístico de prueba $f=(R^2/k)/((1-R^2)/[n-(k+1)])$ <br>\n",
    "Región e rechazo para una prueba de nivel a: $f≥F_{\\alpha,k,n-(k+1)}$ <br>\n"
   ]
  },
  {
   "cell_type": "markdown",
   "metadata": {},
   "source": [
    "Salvo por un múltiplo constante, aquí el estadístico de prueba es $R^{2}/(1-R^{2})$, el cociente entre la variación explicada y la no explicada. Si la proporción de la variación explicada es alta en relación con la no explicada, naturalmente desearíamos rechazar $H_0$ y confirmar la utilidad del modelo. Calculemos algunos valores para darle sentido a esta prueba de hipótesis:"
   ]
  },
  {
   "cell_type": "code",
   "execution_count": 151,
   "metadata": {},
   "outputs": [
    {
     "name": "stdout",
     "output_type": "stream",
     "text": [
      "El valor del coeficiente de determianción multiple (variación explicada):  0.7139592785089429\n",
      "El valor de la variación no explicada es:  0.2860407214910571\n",
      "El valor del estadístico f es:  15.600035783088329\n"
     ]
    }
   ],
   "source": [
    "# Primero veamos cual es el porcentaje de la variación explicada por el modelo\n",
    "print(\"El valor del coeficiente de determianción multiple (variación explicada): \", reg.rsquared)\n",
    "\n",
    "# Por lo tanto, la variacion no explicada\n",
    "print(\"El valor de la variación no explicada es: \", 1-reg.rsquared)\n",
    "\n",
    "# Calculamos el valor del estadístico f\n",
    "# k representa el numero de paráetros y n el numero de observaciones estos valores los\n",
    "# obtenemos directo desde los resultados del modelo\n",
    "f = (reg.rsquared/4)/((1-reg.rsquared)/(reg.nobs-(reg.df_model+1)))\n",
    "print(\"El valor del estadístico f es: \", f )"
   ]
  },
  {
   "cell_type": "markdown",
   "metadata": {},
   "source": [
    "Este valor puede ser consultado directamente desde uno de las propiedades del modelo, se puede observar una ligera diferencia en los ultimos decimales:"
   ]
  },
  {
   "cell_type": "code",
   "execution_count": 153,
   "metadata": {},
   "outputs": [
    {
     "name": "stdout",
     "output_type": "stream",
     "text": [
      "El valor del estadístico f es:  15.600035783088327\n",
      "El valor-p de este estadístico es:  1.5924160694543982e-06\n"
     ]
    }
   ],
   "source": [
    "print(\"El valor del estadístico f es: \", reg.fvalue)\n",
    "print(\"El valor-p de este estadístico es: \", reg.f_pvalue)"
   ]
  },
  {
   "cell_type": "markdown",
   "metadata": {},
   "source": [
    "Por lo que se rechaza la prueba de hipótesis y se llega a la conclusión de que existe una relación útil entre $y$ y al menos uno de los cuatro predictores del modelo."
   ]
  },
  {
   "cell_type": "markdown",
   "metadata": {},
   "source": [
    "Generamos gráficos de diagnóstico para validar nuestros resultados."
   ]
  },
  {
   "cell_type": "code",
   "execution_count": 160,
   "metadata": {},
   "outputs": [
    {
     "data": {
      "image/png": "[encoded data removed]",
      "text/plain": [
       "<Figure size 432x288 with 1 Axes>"
      ]
     },
     "metadata": {},
     "output_type": "display_data"
    },
    {
     "data": {
      "image/png": "[encoded data removed]",
      "text/plain": [
       "<Figure size 432x288 with 1 Axes>"
      ]
     },
     "metadata": {},
     "output_type": "display_data"
    }
   ],
   "source": [
    "# Redefinimos las variables residuales y valores ajustados para obtener \n",
    "# los valores de la nueva regresión y generar nuevamente gráficos de diagnostico\n",
    "residuales = reg.resid\n",
    "valores_ajustados = reg.fittedvalues\n",
    "\n",
    "import matplotlib.pyplot as plt\n",
    "\n",
    "# Residuales generados por la librería\n",
    "plt.scatter(x=reg.fittedvalues, y=datos_df['Resistencia'],  marker='o', c='black', s=25)\n",
    "plt.title(\"Valores ajustados en función de y\")\n",
    "plt.xlabel(\"Resistencia\")\n",
    "plt.ylabel(\"Valor ajustado\")\n",
    "plt.show()\n",
    "\n",
    "# Residuales estandarizados generados por nostros\n",
    "plt.scatter(x=reg.fittedvalues, y=reg.resid_pearson,  marker='o', c='black', s=25)\n",
    "plt.title(\"Residuales estandarizados en función del valores ajustado\")\n",
    "plt.xlabel(\"Valor ajustado\")\n",
    "plt.ylabel(\"Residual\")\n",
    "plt.show()"
   ]
  },
  {
   "cell_type": "markdown",
   "metadata": {},
   "source": [
    "Todos los resultados anteriores se encuentran dentro del resumen principal arrojado por el método OLS."
   ]
  },
  {
   "cell_type": "code",
   "execution_count": null,
   "metadata": {},
   "outputs": [],
   "source": []
  }
 ],
 "metadata": {
  "kernelspec": {
   "display_name": "Python 3",
   "language": "python",
   "name": "python3"
  },
  "language_info": {
   "codemirror_mode": {
    "name": "ipython",
    "version": 3
   },
   "file_extension": ".py",
   "mimetype": "text/x-python",
   "name": "python",
   "nbconvert_exporter": "python",
   "pygments_lexer": "ipython3",
   "version": "3.6.5"
  }
 },
 "nbformat": 4,
 "nbformat_minor": 2
}
