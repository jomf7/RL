{
 "cells": [
  {
   "cell_type": "markdown",
   "metadata": {},
   "source": [
    "## Inferencias acerca de de los parámetros del modelo"
   ]
  },
  {
   "cell_type": "markdown",
   "metadata": {},
   "source": [
    "### Análisis de los residuales"
   ]
  },
  {
   "cell_type": "markdown",
   "metadata": {},
   "source": [
    "#### Ejemplo"
   ]
  },
  {
   "cell_type": "markdown",
   "metadata": {},
   "source": [
    "La alta densidad de población de Japón ha provocado un sinnúmero de problemas de consumo de recursos. Una dificultad especialmente seria tiene que ver con la eliminación de desechos. El artículo “Innovative Sludge Handling Through Pelletization Thickening” (Water Research, 1999) reportó la intervención de una nueva máquina de compresión para procesar lodos de albañal. Una parte importante de la investigación implicó relacionar el contenido de humedad de gránulos comprimidos (y, en %) con la velocidad de filtración de la máquina (x, en kg-DS/m/h). \n",
    "\n",
    "<ol>\n",
    "  <li>\n",
    "        Trace los residuos en función de x. Trace los residuos en función $\\hat{y}$. Trace la función de $\\hat{y}$ en función de $y_i$. ¿Las gráficas resultantes sugieren que una función de regresión de línea recta es una opción razonable de modelo? Explique su razonamiento.\n",
    "  </li>\n",
    "  <li>\n",
    "        Usando s=0.665, calcule los valores de los residuos estandarizados. ¿Es $e^{*}_i \\approx e_i/s$ para $i=1, . . . , n,$ o no están las $e^{*}_i$ cerca de ser proporcionales a las $e_i$?\n",
    "  </li>\n",
    "  <li>\n",
    "        Trace los residuos estandarizados en función de x. ¿Difiere esta gráfica significativamente en su aspecto general con respecto a la gráfica del inciso a)\n",
    "  </li>\n",
    "</ol>\n",
    "\n",
    "Los siguientes datos se tomaron de una gráfica incluida en el artículo, los datos se almacenan directamente en una lista que representa los valores de $x$ y los de $y$:"
   ]
  },
  {
   "cell_type": "code",
   "execution_count": 1,
   "metadata": {},
   "outputs": [],
   "source": [
    "datos_x = [125.3, 98.2, 201.4, 147.3, 145.9, 124.7, 112.2, 120.2, 161.2, 178.9, 159.5, 145.8, 75.1, 151.4, 144.2, 125.0, 198.8, 132.5, 159.6, 110.7]\n",
    "datos_y = [77.9, 76.8, 81.5, 79.8, 78.2, 78.3, 77.5, 77.0, 80.1, 80.2, 79.9, 79.0, 76.7, 78.2, 79.5, 78.1, 81.5, 77.0, 79.0, 78.6]"
   ]
  },
  {
   "cell_type": "markdown",
   "metadata": {},
   "source": [
    "En esta ocasión utlizaremos la librería Statsmodels que realizará nuestros cálculos para obtener el valor de los parámetros mediante MMC de la regresión ( $\\hat{\\beta}_0$ y $\\hat{\\beta}_1$). Esto trae consigo diferentes beneficios como: el generar un código mas claro, evitar errores al momento de codificar, aumenta la velocidad del análisis del modelo en cuestión, además de que algunas librerías cuentan con resultados ya calculados como los residuales, la desviación estándar de los coeficientes de la regresión, y valores-p para realizar pruebas de hipótesis."
   ]
  },
  {
   "cell_type": "markdown",
   "metadata": {},
   "source": [
    "<img src=\"statsmodels_img.png\" alt=\"drawing\" width=\"300\"/>"
   ]
  },
  {
   "cell_type": "markdown",
   "metadata": {},
   "source": [
    "en el sigueinte link podrán encontrar toda la información necesaria para su uso, guía del usuario y descripción de sus métodos y resultados producto de utilizar el código de esta librería: https://www.statsmodels.org/stable/index.html\n",
    "\n",
    "Conforme avance el curso, revisaremos la utilidad de estas librerías y sus resultados, por el momento nos concentraremos en el resultado de los residuales."
   ]
  },
  {
   "cell_type": "code",
   "execution_count": 5,
   "metadata": {},
   "outputs": [
    {
     "data": {
      "image/png": "[encoded data removed]",
      "text/plain": [
       "<Figure size 432x288 with 1 Axes>"
      ]
     },
     "metadata": {},
     "output_type": "display_data"
    }
   ],
   "source": [
    "# Se importa librería matplotlib para realizar la gráfica de puntos\n",
    "# En caso de que la gráfica no se muestre, volver a correr esta celda (hay un bug en el código que no he podido encontrar)\n",
    "import matplotlib.pyplot as plt\n",
    "\n",
    "plt.scatter(x=datos_x, y=datos_y,  marker='o', c='black', s=25)\n",
    "plt.title(\"Gráfico de puntos y estimación de la recta de regresión simple\")\n",
    "plt.xlabel(\"Variable predictora\")\n",
    "plt.ylabel(\"Variable de respuesta\")\n",
    "plt.show()\n",
    "plt.show()"
   ]
  },
  {
   "cell_type": "markdown",
   "metadata": {},
   "source": [
    "El gráfico anterior podría sugerir que utilicemos una regresión lineal simple en función de $x$ para tratar de predecir $y$. En las siguientes celdas se comienza a trabajar con Statsmodels. Lo primero que haremos será convertir nuestras listas de datos en $arrays$, esto como lo vimos en laboratorios anteriores nos permite realizar operaciones de manera mas eficiente además de conservar propiedades como la opción de iterar sobre una estructura de este tipo."
   ]
  },
  {
   "cell_type": "code",
   "execution_count": 7,
   "metadata": {},
   "outputs": [],
   "source": [
    "# Convirtiendo nuestra lista de datos en arrays de datos\n",
    "import numpy as np\n",
    "\n",
    "array_x = np.array(datos_x)\n",
    "array_y = np.array(datos_y)"
   ]
  },
  {
   "cell_type": "markdown",
   "metadata": {},
   "source": [
    "Describiré lo que sucede en la siguiente celda:\n",
    "<ol>\n",
    "  <li>\n",
    "      En la primer línea esta contenido el código para importar la librería Statsmodels.\n",
    "  </li>\n",
    "  <li>\n",
    "    En la segunda línea se realiza una operación con nuestro array $x$. A cada valor de $x$ se agrega una constante igual a 1 para poder realizar las operaciones de Mínimos cuadrados. Este paso es necesario y es una cuestión interna de la librería relacionado al método que usa para resolver las ecuaciones normales para encontrar el valor de las betas. (Como doble check les recomiendo que impriman array_x y después array_x_constant para que vean a diferencia directa entre uno y el otro).\n",
    "  </li>\n",
    "  <li>\n",
    "      En la tecer línea se crea el objeto $reg$ usando el método de la librería OLS (Ordinary Least Squares) y se envían con el nuestros datos $x$ y $y$. Este objeto ahora contiene internamente todos los resultados relevantes a la regresión como: valores de las betas, coeficiente de determinación, valores ajustados, residuales etc. (En este link pueden encontrar una lista de estos resultados: https://www.statsmodels.org/devel/generated/statsmodels.regression.linear_model.OLSResults.html#statsmodels.regression.linear_model.OLSResults \n",
    "  </li>\n",
    "  <li>\n",
    "      Utilizaremos uno de estos resultados del método OLS llamada summary(), el cual nos presenta un resumen de las principales estadísticos de la regresión.\n",
    "  </li>\n",
    "</ol>"
   ]
  },
  {
   "cell_type": "code",
   "execution_count": 8,
   "metadata": {},
   "outputs": [
    {
     "name": "stdout",
     "output_type": "stream",
     "text": [
      "                            OLS Regression Results                            \n",
      "==============================================================================\n",
      "Dep. Variable:                      y   R-squared:                       0.800\n",
      "Model:                            OLS   Adj. R-squared:                  0.789\n",
      "Method:                 Least Squares   F-statistic:                     71.97\n",
      "Date:                Sun, 19 Apr 2020   Prob (F-statistic):           1.05e-07\n",
      "Time:                        13:08:38   Log-Likelihood:                -19.176\n",
      "No. Observations:                  20   AIC:                             42.35\n",
      "Df Residuals:                      18   BIC:                             44.34\n",
      "Df Model:                           1                                         \n",
      "Covariance Type:            nonrobust                                         \n",
      "==============================================================================\n",
      "                 coef    std err          t      P>|t|      [0.025      0.975]\n",
      "------------------------------------------------------------------------------\n",
      "const         72.9585      0.698    104.596      0.000      71.493      74.424\n",
      "x1             0.0410      0.005      8.484      0.000       0.031       0.051\n",
      "==============================================================================\n",
      "Omnibus:                        0.966   Durbin-Watson:                   2.504\n",
      "Prob(Omnibus):                  0.617   Jarque-Bera (JB):                0.846\n",
      "Skew:                          -0.445   Prob(JB):                        0.655\n",
      "Kurtosis:                       2.528   Cond. No.                         676.\n",
      "==============================================================================\n",
      "\n",
      "Warnings:\n",
      "[1] Standard Errors assume that the covariance matrix of the errors is correctly specified.\n"
     ]
    }
   ],
   "source": [
    "# Importamos la librería numpy para la simplificación de operaciones\n",
    "import statsmodels.api as sm\n",
    "\n",
    "array_x_constant = sm.add_constant(array_x)\n",
    "\n",
    "reg = sm.OLS(array_y, array_x_constant).fit()\n",
    "\n",
    "print(reg.summary())"
   ]
  },
  {
   "cell_type": "markdown",
   "metadata": {},
   "source": [
    "Este resultado muestra muchos resultados que nos ayudarán a realizar un diagnostico de nuestro modelo de regresión. Recordar que acabamos de crear un objeto llamado $reg$ al que hay que llamar para que se muestren resultados de la regresión, por ejemplo si queremos ver el coeficiente de determinación generamos el siguiente comando:"
   ]
  },
  {
   "cell_type": "code",
   "execution_count": 9,
   "metadata": {},
   "outputs": [
    {
     "data": {
      "text/plain": [
       "0.7999400971482361"
      ]
     },
     "execution_count": 9,
     "metadata": {},
     "output_type": "execute_result"
    }
   ],
   "source": [
    "reg.rsquared"
   ]
  },
  {
   "cell_type": "markdown",
   "metadata": {},
   "source": [
    "Si queremos ver las betas generadas en el modelo:"
   ]
  },
  {
   "cell_type": "code",
   "execution_count": 10,
   "metadata": {},
   "outputs": [
    {
     "data": {
      "text/plain": [
       "array([7.2958547e+01, 4.1033770e-02])"
      ]
     },
     "execution_count": 10,
     "metadata": {},
     "output_type": "execute_result"
    }
   ],
   "source": [
    "reg.params"
   ]
  },
  {
   "cell_type": "markdown",
   "metadata": {},
   "source": [
    "Esta respuesta indica que el estimador de $\\beta_0$ es 72.95 y de $\\beta_1$ es 0.041. Este resultado se muestra en el resumen que imprimimos hace un momento, además de que el resumen incluye la desviación estandar de cada beta y una prueba de hipótesis."
   ]
  },
  {
   "cell_type": "markdown",
   "metadata": {},
   "source": [
    "Con estos resultados generados podemos ahora resolver las cuestiones del problema del contenido de humedad en gránulos."
   ]
  },
  {
   "cell_type": "markdown",
   "metadata": {},
   "source": [
    "#### 1.- Primero trazaremos las gráficas de diagnostico para nuestro modelo."
   ]
  },
  {
   "cell_type": "markdown",
   "metadata": {},
   "source": [
    "Residuales en función de $x$."
   ]
  },
  {
   "cell_type": "code",
   "execution_count": 11,
   "metadata": {},
   "outputs": [
    {
     "data": {
      "image/png": "[encoded data removed]",
      "text/plain": [
       "<Figure size 432x288 with 1 Axes>"
      ]
     },
     "metadata": {},
     "output_type": "display_data"
    }
   ],
   "source": [
    "import matplotlib.pyplot as plt\n",
    "\n",
    "plt.scatter(x=datos_x, y=reg.resid,  marker='o', c='black', s=25)\n",
    "plt.plot(array_x, 0 * array_x, '-', c='green')\n",
    "plt.title(\"Residuales en función de x\")\n",
    "plt.xlabel(\"x\")\n",
    "plt.ylabel(\"Residual\")\n",
    "plt.show()"
   ]
  },
  {
   "cell_type": "markdown",
   "metadata": {},
   "source": [
    "Residuales en función de los valores ajustados."
   ]
  },
  {
   "cell_type": "code",
   "execution_count": 14,
   "metadata": {},
   "outputs": [
    {
     "data": {
      "image/png": "[encoded data removed]",
      "text/plain": [
       "<Figure size 432x288 with 1 Axes>"
      ]
     },
     "metadata": {},
     "output_type": "display_data"
    }
   ],
   "source": [
    "import matplotlib.pyplot as plt\n",
    "\n",
    "plt.scatter(x=reg.fittedvalues, y=reg.resid,  marker='o', c='black', s=25)\n",
    "plt.plot(reg.fittedvalues, 0 * reg.fittedvalues, '-', c='green')\n",
    "plt.title(\"Residuales en función de valores ajustados\")\n",
    "plt.xlabel(\"Valor ajustado\")\n",
    "plt.ylabel(\"Residual\")\n",
    "plt.show()"
   ]
  },
  {
   "cell_type": "markdown",
   "metadata": {},
   "source": [
    "Valores ajustados en función de los valores observados."
   ]
  },
  {
   "cell_type": "code",
   "execution_count": 15,
   "metadata": {},
   "outputs": [
    {
     "data": {
      "image/png": "[encoded data removed]",
      "text/plain": [
       "<Figure size 432x288 with 1 Axes>"
      ]
     },
     "metadata": {},
     "output_type": "display_data"
    }
   ],
   "source": [
    "import matplotlib.pyplot as plt\n",
    "\n",
    "plt.scatter(x=datos_y, y=reg.fittedvalues,  marker='o', c='black', s=25)\n",
    "plt.title(\"Residuales en función de x\")\n",
    "plt.xlabel(\"Valores observados\")\n",
    "plt.ylabel(\"Valores ajustados\")\n",
    "plt.show()"
   ]
  },
  {
   "cell_type": "markdown",
   "metadata": {},
   "source": [
    "Las gráficas resultantes sugieren que una función de regresión de línea recta es una opción razonable de modelo. Los residuales se distribuyen de manera azarosa alrededor de 0 y la grafica de valores ajustados vs valores observados parece formar una línea de 45°."
   ]
  },
  {
   "cell_type": "markdown",
   "metadata": {},
   "source": [
    "#### 2.- Usando s=0.665, calcule los valores de los residuos estandarizados. ¿Es $e^{*}_i \\approx e_i/s$ para $i=1, . . . , n,$ o no están las $e^{*}_i$ cerca de ser proporcionales a las $e_i$?"
   ]
  },
  {
   "cell_type": "markdown",
   "metadata": {},
   "source": [
    "El problema sugiere que usemos un s=0.665, sin embargo podemos obtener un valor mas exacto de la desviación estandar de modelo producido por el método OLS mediante reg.mse_resid, este valor representa la varianza del modelo. Para obtener la desviación hay que sacar raíz cuadrada a este valor."
   ]
  },
  {
   "cell_type": "code",
   "execution_count": 18,
   "metadata": {},
   "outputs": [
    {
     "data": {
      "text/plain": [
       "0.6653314049228921"
      ]
     },
     "execution_count": 18,
     "metadata": {},
     "output_type": "execute_result"
    }
   ],
   "source": [
    "# Imprime la desvación exacta del modelo\n",
    "reg.mse_resid**0.5"
   ]
  },
  {
   "cell_type": "markdown",
   "metadata": {},
   "source": [
    "Utilizaremos este valor mas exacto par generar los residuales estandarizados. Recordemos que los residuos estandarizados se definen como:"
   ]
  },
  {
   "cell_type": "markdown",
   "metadata": {},
   "source": [
    "$$e_{i}^*=\\frac{Y_i-\\hat{Y}_i}{s\\sqrt{(1-\\frac{1}{n}-\\frac{x_i-x}{S_{xx}}}}\n",
    "\\hspace{10mm}\n",
    "i=1,…,n$$"
   ]
  },
  {
   "cell_type": "markdown",
   "metadata": {},
   "source": [
    "Guardaremos algunos valores en variables con nombres sugeridos a su verdadero valor y de esta manera sea mas fácil deducir el código."
   ]
  },
  {
   "cell_type": "code",
   "execution_count": 20,
   "metadata": {},
   "outputs": [],
   "source": [
    "# Desviación estandar del modelo\n",
    "s = reg.mse_resid**0.5\n",
    "\n",
    "# media muestral de x\n",
    "x_mean = array_x.mean()\n",
    "\n",
    "# Numero de observaciones y un array con todos los residuales calculados por la librería\n",
    "n = int(reg.nobs)\n",
    "residual = reg.resid\n",
    "\n",
    "# Suma de x, suma de x cuadrada y Sxx\n",
    "sum_x = sum(array_x)\n",
    "sum_xx = sum(array_x*array_x)\n",
    "s_xx = sum_xx-(1/n)*sum_x**2"
   ]
  },
  {
   "cell_type": "markdown",
   "metadata": {},
   "source": [
    "En lqa siguiente celda se crea una lista con el valor de los residuos estandarizados."
   ]
  },
  {
   "cell_type": "code",
   "execution_count": 21,
   "metadata": {},
   "outputs": [
    {
     "name": "stdout",
     "output_type": "stream",
     "text": [
      "[-0.3083983  -0.2896602   0.4282591   1.22951335 -1.1495686   0.34610034\n",
      " -0.0963571  -1.37288297  0.8128287  -0.15357918  0.61184483  0.09057632\n",
      "  1.01561768 -1.49786636  0.96292274  0.01885375  0.59301222 -2.15147011\n",
      " -0.78305753  1.69332071]\n"
     ]
    }
   ],
   "source": [
    "# Se crea una lista vacía\n",
    "residuales_std = []                  \n",
    "\n",
    "# Se itera de 1 a n observaciones, en este caso n=20. Por lo tanto, se itera de 1 a 20.\n",
    "for i in range(n):                    \n",
    "    residual_sd = residual[i]/(s*((1-(1/n)-((array_x[i]-x_mean)/s_xx))**0.5))  # Aqui se describe la formula comentada arriba\n",
    "    residuales_std.append(residual_sd)\n",
    "\n",
    "# La lista la convertimos en array para mejor manejo\n",
    "residuales_std = np.array(residuales_std)\n",
    "\n",
    "# Imprime los resultados\n",
    "print(residuales_std)"
   ]
  },
  {
   "cell_type": "markdown",
   "metadata": {},
   "source": [
    "Ahora estandarizamos los residuales simplemente diviendo entre la desvación estandar. Como se puede apreciar, no existe mayor diferencia con los cálculados de manera exacta."
   ]
  },
  {
   "cell_type": "code",
   "execution_count": 22,
   "metadata": {},
   "outputs": [
    {
     "name": "stdout",
     "output_type": "stream",
     "text": [
      "[-0.30071984 -0.28266092  0.41671225  1.19816786 -1.12030488  0.33748881\n",
      " -0.09399221 -1.33889085  0.79179984 -0.14953214  0.59604388  0.08827083\n",
      "  0.99171164 -1.45951288  0.93845471  0.01838448  0.57706512 -2.09748328\n",
      " -0.76283287  1.65183047]\n"
     ]
    }
   ],
   "source": [
    "residuales_std = []\n",
    "for i in range(n):\n",
    "    residual_sd = residual[i]/s\n",
    "    residuales_std.append(residual_sd)\n",
    "residuales_std = np.array(residuales_std)\n",
    "    \n",
    "print(residuales_std)"
   ]
  },
  {
   "cell_type": "markdown",
   "metadata": {},
   "source": [
    "###### Uso de librería statsmodels"
   ]
  },
  {
   "cell_type": "markdown",
   "metadata": {},
   "source": [
    "La librería statsmodels cuenta con un parametro que nos arroja de manera automática los residuales estandarizados y de esta manera nos evita loa cálculos anteriores, aún así es conveniente tener una referencia de como obtenerlos po nuestra cuenta. Como se puede observar los residuales arrojados por la librería son iguales a los valores que obtuvimos usando $e^{*}_i \\approx e_i/s$"
   ]
  },
  {
   "cell_type": "code",
   "execution_count": 23,
   "metadata": {},
   "outputs": [
    {
     "data": {
      "text/plain": [
       "array([-0.30071984, -0.28266092,  0.41671225,  1.19816786, -1.12030488,\n",
       "        0.33748881, -0.09399221, -1.33889085,  0.79179984, -0.14953214,\n",
       "        0.59604388,  0.08827083,  0.99171164, -1.45951288,  0.93845471,\n",
       "        0.01838448,  0.57706512, -2.09748328, -0.76283287,  1.65183047])"
      ]
     },
     "execution_count": 23,
     "metadata": {},
     "output_type": "execute_result"
    }
   ],
   "source": [
    "reg.resid_pearson"
   ]
  },
  {
   "cell_type": "markdown",
   "metadata": {},
   "source": [
    "#### Trazemos los residuos estandarizados en función de x. ¿Difiere esta gráfica significativamente en su aspecto general con respecto a la gráfica del inciso a)"
   ]
  },
  {
   "cell_type": "code",
   "execution_count": 25,
   "metadata": {},
   "outputs": [
    {
     "data": {
      "image/png": "[encoded data removed]",
      "text/plain": [
       "<Figure size 432x288 with 1 Axes>"
      ]
     },
     "metadata": {},
     "output_type": "display_data"
    },
    {
     "data": {
      "image/png": "[encoded data removed]",
      "text/plain": [
       "<Figure size 432x288 with 1 Axes>"
      ]
     },
     "metadata": {},
     "output_type": "display_data"
    }
   ],
   "source": [
    "import matplotlib.pyplot as plt\n",
    "\n",
    "# Residuales generados por la librería\n",
    "plt.scatter(x=datos_x, y=reg.resid,  marker='o', c='black', s=25)\n",
    "plt.plot(array_x, 0 * array_x, '-', c='green')\n",
    "plt.title(\"Residuales en función de x\")\n",
    "plt.xlabel(\"x\")\n",
    "plt.ylabel(\"Residual\")\n",
    "plt.show()\n",
    "\n",
    "# Residuales estandarizados generados por nostros\n",
    "plt.scatter(x=datos_x, y=residuales_std,  marker='o', c='black', s=25)\n",
    "plt.plot(array_x, 0 * array_x, '-', c='blue')\n",
    "plt.title(\"Residuales estandarizados en función de x\")\n",
    "plt.xlabel(\"x\")\n",
    "plt.ylabel(\"Residual estandarizado\")\n",
    "plt.show()"
   ]
  },
  {
   "cell_type": "markdown",
   "metadata": {},
   "source": [
    "Las gráficas no parecen diferir en gran medida."
   ]
  },
  {
   "cell_type": "code",
   "execution_count": null,
   "metadata": {},
   "outputs": [],
   "source": []
  }
 ],
 "metadata": {
  "kernelspec": {
   "display_name": "Python 3",
   "language": "python",
   "name": "python3"
  },
  "language_info": {
   "codemirror_mode": {
    "name": "ipython",
    "version": 3
   },
   "file_extension": ".py",
   "mimetype": "text/x-python",
   "name": "python",
   "nbconvert_exporter": "python",
   "pygments_lexer": "ipython3",
   "version": "3.6.5"
  }
 },
 "nbformat": 4,
 "nbformat_minor": 2
}
